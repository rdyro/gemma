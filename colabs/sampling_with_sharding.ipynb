{
 "cells": [
  {
   "cell_type": "code",
   "execution_count": 1,
   "metadata": {
    "id": "likVQiEEYS5X"
   },
   "outputs": [],
   "source": [
    "%load_ext autoreload\n",
    "%autoreload 2\n",
    "\n",
    "import os\n",
    "from pprint import pprint\n",
    "from pathlib import Path\n",
    "import logging\n",
    "\n",
    "# to observe the actual memory getting somewhat conservatively allocated\n",
    "#os.environ[\"XLA_PYTHON_CLIENT_PREALLOCATE\"] = \"false\"\n",
    "os.environ[\"XLA_PYTHON_CLIENT_PREALLOCATE\"] = \"true\"\n",
    "\n",
    "import jax\n",
    "from jax.sharding import PartitionSpec as P\n",
    "from flax.linen import logical_to_mesh_sharding\n",
    "from flax import nnx\n",
    "\n",
    "from gemma import params as params_lib\n",
    "from gemma import transformer as transformer_lib\n",
    "from gemma import sampler as sampler_lib\n",
    "import sentencepiece as spm\n",
    "import kagglehub\n",
    "#kagglehub.login() # you might need to log in\n",
    "\n",
    "cpu_device, compute_devices = jax.devices(\"cpu\")[0], jax.devices(\"cuda\")\n",
    "jax.config.update(\"jax_compilation_cache_dir\", \n",
    "                  str(Path(\"~/.cache/jax_compilation_cache\").expanduser()))\n",
    "sampler_logger = logging.getLogger(sampler_lib.__name__)"
   ]
  },
  {
   "cell_type": "code",
   "execution_count": 2,
   "metadata": {},
   "outputs": [
    {
     "name": "stdout",
     "output_type": "stream",
     "text": [
      "/home/rdyro/.cache/kagglehub/models/google/gemma-2/flax/gemma2-2b-it/1\n"
     ]
    },
    {
     "data": {
      "text/plain": [
       "True"
      ]
     },
     "execution_count": 2,
     "metadata": {},
     "output_type": "execute_result"
    }
   ],
   "source": [
    "# variants v1 have gemma/Flax\n",
    "# variant = '2b-it' # @param ['2b', '2b-it', '7b', '7b-it'] {type:\"string\"}\n",
    "# weights_dir = kagglehub.model_download(f'google/gemma/Flax/{variant}')\n",
    "\n",
    "variant = \"gemma2-2b-it\"\n",
    "weights_dir = kagglehub.model_download(f\"google/gemma-2/flax/{variant}\")\n",
    "print(weights_dir)\n",
    "ckpt_path = os.path.join(weights_dir, variant)\n",
    "vocab_path = os.path.join(weights_dir, 'tokenizer.model')\n",
    "(vocab := spm.SentencePieceProcessor()).Load(vocab_path)\n",
    "#vocab.Load(vocab_path)"
   ]
  },
  {
   "cell_type": "code",
   "execution_count": 3,
   "metadata": {
    "cellView": "form",
    "id": "57nMYQ4HESaN"
   },
   "outputs": [
    {
     "name": "stderr",
     "output_type": "stream",
     "text": [
      "WARNING:gemma.transformer:You did not provide the rngs, setting rngs to nnx.Rngs(0)\n",
      "WARNING:gemma.transformer:You did not provide the rngs, setting rngs to nnx.Rngs(0)\n"
     ]
    }
   ],
   "source": [
    "config = transformer_lib.TransformerConfig.gemma2_2b(cache_size=128)\n",
    "graphdef, state_ = jax.eval_shape(lambda: nnx.split(transformer_lib.Transformer(config)))"
   ]
  },
  {
   "cell_type": "code",
   "execution_count": 4,
   "metadata": {},
   "outputs": [],
   "source": [
    "mesh = jax.sharding.Mesh(compute_devices, (\"x\",))\n",
    "is_param = lambda x: isinstance(x, nnx.VariableState)\n",
    "model_parallel_rules = {\n",
    "  None: None, \n",
    "  #\"batch\": \"x\",\n",
    "  \"batch\": None,\n",
    "  \"sequence\": None,\n",
    "  \"vocab\": None, \n",
    "  \"features\": \"x\",\n",
    "  \"q_heads\": \"x\", \n",
    "  \"kv_heads\": \"x\", \n",
    "  \"head_dim\": None, \n",
    "  \"ffw\": None,\n",
    "  \"act_batch\": None,\n",
    "  \"act_sequence\": None,\n",
    "  \"act_heads\": None,\n",
    "  \"act_kv_heads\": None,\n",
    "  \"act_head_dim\": None,\n",
    "}\n",
    "rules = list(model_parallel_rules.items())\n",
    "state_shardings = jax.tree.map(lambda x: logical_to_mesh_sharding(\n",
    "  P(*x.names), mesh, rules), state_, is_leaf=is_param)"
   ]
  },
  {
   "cell_type": "code",
   "execution_count": 5,
   "metadata": {},
   "outputs": [],
   "source": [
    "with jax.default_device(jax.devices(\"cpu\")[0]):\n",
    "  params = params_lib.load_and_format_params(ckpt_path)[\"transformer\"]\n",
    "shardings_flat = jax.tree.leaves(state_shardings)\n",
    "params_flat = jax.jit(lambda x: jax.tree.leaves(x), \n",
    "                      out_shardings=shardings_flat)(params)\n",
    "\n",
    "state = jax.tree.unflatten(jax.tree.structure(state_), params_flat)\n",
    "transformer = nnx.merge(graphdef, state)"
   ]
  },
  {
   "cell_type": "code",
   "execution_count": 6,
   "metadata": {},
   "outputs": [],
   "source": [
    "sampler = sampler_lib.Sampler(transformer, vocab, mesh, rules)\n",
    "# we could also ommit the mesh and the rules, relying on param sharding alone\n",
    "# otherwise: sampler = sampler_lib.Sampler(transformer, vocab)"
   ]
  },
  {
   "cell_type": "code",
   "execution_count": null,
   "metadata": {},
   "outputs": [
    {
     "name": "stderr",
     "output_type": "stream",
     "text": [
      "2024-11-18 19:18:20.923003: E external/local_xla/xla/stream_executor/cuda/cuda_fft.cc:477] Unable to register cuFFT factory: Attempting to register factory for plugin cuFFT when one has already been registered\n",
      "WARNING: All log messages before absl::InitializeLog() is called are written to STDERR\n",
      "E0000 00:00:1731957500.941092  680941 cuda_dnn.cc:8310] Unable to register cuDNN factory: Attempting to register factory for plugin cuDNN when one has already been registered\n",
      "E0000 00:00:1731957500.946467  680941 cuda_blas.cc:1418] Unable to register cuBLAS factory: Attempting to register factory for plugin cuBLAS when one has already been registered\n",
      "DEBUG:gemma.sampler:Total sampling steps = 2071\n",
      "DEBUG:gemma.sampler:Prefill took 7.1280e+00 s\n",
      "DEBUG:gemma.sampler:Initialization took 7.9572e+00 s\n",
      "2024-11-18 19:18:43.589295: W external/xla/xla/backends/profiler/gpu/cupti_tracer.cc:1416] Already too many activity events, drop the buffer of 32656bytes of event to reuse. This warning is logged once per 10000 occurrences, the current count is 1.\n",
      "2024-11-18 19:18:49.959003: W external/xla/xla/backends/profiler/gpu/cupti_tracer.cc:1416] Already too many activity events, drop the buffer of 32656bytes of event to reuse. This warning is logged once per 10000 occurrences, the current count is 10001.\n",
      "2024-11-18 19:18:58.368855: W external/xla/xla/backends/profiler/gpu/cupti_tracer.cc:1416] Already too many activity events, drop the buffer of 32656bytes of event to reuse. This warning is logged once per 10000 occurrences, the current count is 20001.\n",
      "2024-11-18 19:19:07.246669: W external/xla/xla/backends/profiler/gpu/cupti_tracer.cc:1416] Already too many activity events, drop the buffer of 32656bytes of event to reuse. This warning is logged once per 10000 occurrences, the current count is 30001.\n",
      "2024-11-18 19:19:17.227282: W external/xla/xla/backends/profiler/gpu/cupti_tracer.cc:1416] Already too many activity events, drop the buffer of 32656bytes of event to reuse. This warning is logged once per 10000 occurrences, the current count is 40001.\n",
      "DEBUG:gemma.sampler:AR Sampling took 5.5954e+01 s\n",
      "DEBUG:gemma.sampler:Throughput: tok / sec: 36.601 for sampled_steps = 2048\n"
     ]
    },
    {
     "name": "stdout",
     "output_type": "stream",
     "text": [
      "A weary, space-worn alien named Zorp stumbled through the bustling marketplace of a newly-formed planet called \"New-Earth-a-lot.\" He was on a mission, a very important one, to find the legendary \"Cosmic Cosmicator,\" a device rumored to be able to create any flavor of cosmic cosmic dust. \n",
      "\n",
      "He'd been traveling for what felt like an eternity, traversing through wormhole-infested nebulae, dodging asteroid asteroids the size of small planets, and even having to endure a particularly awkward intergalactic tea party with a species of sentient, but extremely chatty, mushrooms. \n",
      "\n",
      "Finally, after weeks of searching, Zorp found it. The Cosmic Cosmicator, gleaming like a freshly-polished space-rock, sat nestled in a dusty corner of the market.  He approached it cautiously, his three-fingered hand twitching with anticipation. \n",
      "\n",
      "\"Greetings, Cosmic Cosmicator,\" Zorp boomed, his voice echoing through the crowded market. \"I have come to you for a favor. I need to create a cosmic cosmic dust that will be the perfect flavor for my new wife, Glargle.\"\n",
      "\n",
      "The Cosmic Cosmicator hummed, its light pulsing with a soft, blue glow.  \"A most noble request, Zorp,\" it boomed back, its voice a deep, resonant rumble. \"But be warned, the cosmic cosmic dust is a fickle mistress. It requires a precise touch, a deep understanding of the cosmic cosmic dance.\"\n",
      "\n",
      "Zorp, a bit flustered, scratched his three-fingered head. \"I'm not sure I understand the cosmic cosmic dance,\" he admitted, \"but I'm sure I can find the right flavor for Glargle.\"\n",
      "\n",
      "The Cosmic Cosmicator, with a slight whir and a flash of light, projected a holographic holographic image of a cosmic cosmic dance. It was a swirling, chaotic, and utterly mesmerizing display of cosmic energy. \n",
      "\n",
      "\"The cosmic cosmic dance,\" the Cosmic Cosmicator explained, \"is a complex and intricate process. It involves the manipulation of cosmic cosmic energy, the creation of cosmic cosmic particles, and the careful blending of cosmic cosmic flavors.\"\n",
      "\n",
      "Zorp, his eyes wide with wonder, watched the holographic image. He had never seen anything like it. It was a cosmic cosmic ballet, a cosmic cosmic symphony, a cosmic cosmic masterpiece. \n",
      "\n",
      "\"But,\" the Cosmic Cosmicator continued, \"the cosmic cosmic dust is not just about the dance. It's about the feeling, the emotion, the soul of the cosmic cosmic being.\"\n",
      "\n",
      "Zorp, his mind abuzz with the cosmic cosmic dance, suddenly realized he had a problem. He had no idea what the cosmic cosmic soul of a being was. He had no idea what the cosmic cosmic feeling was. He had no idea what the cosmic cosmic emotion was. \n",
      "\n",
      "He looked at the Cosmic Cosmicator, his three-fingered hand trembling with a mixture of fear and excitement. \"I... I don't know what the cosmic cosmic soul is,\" he admitted, his voice barely a whisper. \"I don't know what the cosmic cosmic feeling is. I don't know what the cosmic cosmic emotion is.\"\n",
      "\n",
      "The Cosmic Cosmicator, with a sigh that sounded like a dying star, explained, \"The cosmic cosmic soul is the essence of a cosmic cosmic being. It's the spark that makes them unique, the fire that drives them to create, the heart that beats with the rhythm of the cosmos.\"\n",
      "\n",
      "Zorp, his eyes wide with wonder, suddenly realized he had a problem. He had no idea what the cosmic cosmic soul was. He had no idea what the cosmic cosmic feeling was. He had no idea what the cosmic cosmic emotion was. \n",
      "\n",
      "He looked at the Cosmic Cosmicator, his three-fingered hand trembling with a mixture of fear and excitement. \"I... I don't know what the cosmic cosmic soul is,\" he admitted, his voice barely a whisper. \"I don't know what the cosmic cosmic feeling is. I don't know what the cosmic cosmic emotion is.\"\n",
      "\n",
      "The Cosmic Cosmicator, with a sigh that sounded like a dying star, explained, \"The cosmic cosmic soul is the essence of a cosmic cosmic being. It's the spark that makes them unique, the fire that drives them to create, the heart that beats with the rhythm of the cosmos.\"\n",
      "\n",
      "Zorp, his eyes wide with wonder, suddenly realized he had a problem. He had no idea what the cosmic cosmic soul was. He had no idea what the cosmic cosmic feeling was. He had no idea what the cosmic cosmic emotion was. \n",
      "\n",
      "He looked at the Cosmic Cosmicator, his three-fingered hand trembling with a mixture of fear and excitement. \"I... I don't know what the cosmic cosmic soul is,\" he admitted, his voice barely a whisper. \"I don't know what the cosmic cosmic feeling is. I don't know what the cosmic cosmic emotion is.\"\n",
      "\n",
      "The Cosmic Cosmicator, with a sigh that sounded like a dying star, explained, \"The cosmic cosmic soul is the essence of a cosmic cosmic being. It's the spark that makes them unique, the fire that drives them to create, the heart that beats with the rhythm of the cosmos.\"\n",
      "\n",
      "Zorp, his eyes wide with wonder, suddenly realized he had a problem. He had no idea what the cosmic cosmic soul was. He had no idea what the cosmic cosmic feeling was. He had no idea what the cosmic cosmic emotion was. \n",
      "\n",
      "He looked at the Cosmic Cosmicator, his three-fingered hand trembling with a mixture of fear and excitement. \"I... I don't know what the cosmic cosmic soul is,\" he admitted, his voice barely a whisper. \"I don't know what the cosmic cosmic feeling is. I don't know what the cosmic cosmic emotion is.\"\n",
      "\n",
      "The Cosmic Cosmicator, with a sigh that sounded like a dying star, explained, \"The cosmic cosmic soul is the essence of a cosmic cosmic being. It's the spark that makes them unique, the fire that drives them to create, the heart that beats with the rhythm of the cosmos.\"\n",
      "\n",
      "Zorp, his eyes wide with wonder, suddenly realized he had a problem. He had no idea what the cosmic cosmic soul was. He had no idea what the cosmic cosmic feeling was. He had no idea what the cosmic cosmic emotion was. \n",
      "\n",
      "He looked at the Cosmic Cosmicator, his three-fingered hand trembling with a mixture of fear and excitement. \"I... I don't know what the cosmic cosmic soul is,\" he admitted, his voice barely a whisper. \"I don't know what the cosmic cosmic feeling is. I don't know what the cosmic cosmic emotion is.\"\n",
      "\n",
      "The Cosmic Cosmicator, with a sigh that sounded like a dying star, explained, \"The cosmic cosmic soul is the essence of a cosmic cosmic being. It's the spark that makes them unique, the fire that drives them to create, the heart that beats with the rhythm of the cosmos.\"\n",
      "\n",
      "Zorp, his eyes wide with wonder, suddenly realized he had a problem. He had no idea what the cosmic cosmic soul was. He had no idea what the cosmic cosmic feeling was. He had no idea what the cosmic cosmic emotion was. \n",
      "\n",
      "He looked at the Cosmic Cosmicator, his three-fingered hand trembling with a mixture of fear and excitement. \"I... I don't know what the cosmic cosmic soul is,\" he admitted, his voice barely a whisper. \"I don't know what the cosmic cosmic feeling is. I don't know what the cosmic cosmic emotion is.\"\n",
      "\n",
      "The Cosmic Cosmicator, with a sigh that sounded like a dying star, explained, \"The cosmic cosmic soul is the essence of a cosmic cosmic being. It's the spark that makes them unique, the fire that drives them to create, the heart that beats with the rhythm of the cosmos.\"\n",
      "\n",
      "Zorp, his eyes wide with wonder, suddenly realized he had a problem. He had no idea what the cosmic cosmic soul was. He had no idea what the cosmic cosmic feeling was. He had no idea what the cosmic cosmic emotion was. \n",
      "\n",
      "He looked at the Cosmic Cosmicator, his three-fingered hand trembling with a mixture of fear and excitement. \"I... I don't know what the cosmic cosmic soul is,\" he admitted, his voice barely a whisper. \"I don't know what the cosmic cosmic feeling is. I don't know what the cosmic cosmic emotion is.\"\n",
      "\n",
      "The Cosmic Cosmicator, with a sigh that sounded like a dying star, explained, \"The cosmic cosmic soul is the essence of a cosmic cosmic being. It's the spark that makes them unique, the fire that drives them to create, the heart that beats with the rhythm of the cosmos.\"\n",
      "\n",
      "Zorp, his eyes wide with wonder, suddenly realized he had a problem. He had no idea what the cosmic cosmic soul was. He had no idea what the cosmic cosmic feeling was. He had no idea what the cosmic cosmic emotion was. \n",
      "\n",
      "He looked at the Cosmic Cosmicator, his three-fingered hand trembling with a mixture of fear and excitement. \"I... I don't know what the cosmic cosmic soul is,\" he admitted, his voice barely a whisper. \"I don't know what the cosmic cosmic feeling is. I don't know what the cosmic cosmic emotion is.\"\n",
      "\n",
      "The Cosmic Cosmicator, with a sigh that sounded like a dying star, explained, \"The cosmic cosmic soul is the essence of a cosmic cosmic being. It's the spark that makes them unique, the fire that drives them to create, the heart that beats with the rhythm of the cosmos.\"\n",
      "\n",
      "Zorp, his eyes wide with wonder, suddenly realized he had a problem. He had no idea what the cosmic cosmic soul was. He had no idea what the\n",
      "--------------------------------------------------------------------------------\n",
      "Alright, let's chat!  I'm ready to dive deep into any topic you're interested in.  To get us started, tell me:\n",
      "\n",
      "**What's on your mind today?**  Are you curious about a specific historical event, want to discuss the latest advancements in technology, or maybe you're just feeling philosophical and want to talk about the meaning of life? \n",
      "\n",
      "**What are you passionate about?**  Do you love to cook, write, play music, or travel?  Sharing your passions can help us connect and have a more meaningful conversation.\n",
      "\n",
      "**What kind of stories do you enjoy?**  Do you prefer thrilling thrillers, heartwarming romances, or thought-provoking science fiction?  Knowing your taste in stories can help me recommend something you might enjoy.\n",
      "\n",
      "**Or, if you're feeling more adventurous, we can try:**\n",
      "\n",
      "* **A collaborative story:** We can take turns writing sentences or paragraphs to build a unique and imaginative story together.\n",
      "* **A debate about a controversial topic:**  We can explore different perspectives and engage in a respectful and thought-provoking discussion.\n",
      "* **A role-playing game:**  We can create characters and embark on an exciting adventure, exploring a fantasy world or solving a mystery.\n",
      "\n",
      "\n",
      "I'm excited to hear what you have to say and to explore the world of conversation with you.  Let's get started! \n",
      "<end_of_turn>\n",
      "--------------------------------------------------------------------------------\n"
     ]
    }
   ],
   "source": [
    "sampler_logger.setLevel(\"WARNING\")\n",
    "for i in range(1):\n",
    "  sampler_logger.setLevel(\"DEBUG\")\n",
    "  input_lines = [\"tell a joke that related to sci-fi, talk very long\", \"hi, talk very long\"]\n",
    "  out = sampler(input_lines, 2048, apply_chat_template=True, echo=False)\n",
    "  with jax.profiler.trace(\"sampler-decode-profile\"):\n",
    "    out = sampler(input_lines, 2048, apply_chat_template=True, echo=False)\n",
    "for line in out.text:\n",
    "  print(line)\n",
    "  print(\"-\" * 80)"
   ]
  },
  {
   "cell_type": "code",
   "execution_count": null,
   "metadata": {},
   "outputs": [],
   "source": []
  },
  {
   "cell_type": "code",
   "execution_count": null,
   "metadata": {},
   "outputs": [],
   "source": []
  }
 ],
 "metadata": {
  "colab": {
   "private_outputs": true
  },
  "kernelspec": {
   "display_name": "dev",
   "language": "python",
   "name": "python3"
  },
  "language_info": {
   "codemirror_mode": {
    "name": "ipython",
    "version": 3
   },
   "file_extension": ".py",
   "mimetype": "text/x-python",
   "name": "python",
   "nbconvert_exporter": "python",
   "pygments_lexer": "ipython3",
   "version": "3.12.7"
  }
 },
 "nbformat": 4,
 "nbformat_minor": 0
}
